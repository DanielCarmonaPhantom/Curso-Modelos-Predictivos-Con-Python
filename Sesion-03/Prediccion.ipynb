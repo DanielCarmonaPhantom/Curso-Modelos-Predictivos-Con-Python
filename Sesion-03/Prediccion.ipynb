{
  "nbformat": 4,
  "nbformat_minor": 0,
  "metadata": {
    "colab": {
      "name": "Prediccion.ipynb",
      "provenance": []
    },
    "kernelspec": {
      "name": "python3",
      "display_name": "Python 3"
    },
    "language_info": {
      "name": "python"
    }
  },
  "cells": [
    {
      "cell_type": "markdown",
      "source": [
        "# Predicción y evaluación"
      ],
      "metadata": {
        "id": "IYnq7otGgj90"
      }
    },
    {
      "cell_type": "code",
      "execution_count": 1,
      "metadata": {
        "id": "kQl6hIRNesbF"
      },
      "outputs": [],
      "source": [
        "import numpy as np\n",
        "from keras.preprocessing.image import load_img, img_to_array\n",
        "from keras.models import load_model\n",
        "import os\n",
        "import zipfile\n",
        "from keras.preprocessing.image import ImageDataGenerator\n",
        "from sklearn.metrics import confusion_matrix, f1_score, roc_curve, precision_score, recall_score, accuracy_score, roc_auc_score\n",
        "from sklearn import metrics"
      ]
    },
    {
      "cell_type": "code",
      "source": [
        "zip_ref = zipfile.ZipFile('/content/drive/MyDrive/Data_Rural_vs_Urbano.zip', 'r')\n",
        "zip_ref.extractall('/content/tmp')\n",
        "zip_ref.close()"
      ],
      "metadata": {
        "id": "hf-PMd4Ietuy"
      },
      "execution_count": 3,
      "outputs": []
    },
    {
      "cell_type": "code",
      "source": [
        "base_dir = '/content/tmp/Data_Rural_vs_Urbano/'\n",
        "dev_dir = (base_dir + 'Dev')\n",
        "dev_dir2 = (base_dir + 'Dev/Rural/')\n",
        "dev_dir3 = (base_dir + 'Dev/Urbano/')\n",
        "dev_dir4 = (base_dir + 'Test/Rural/')\n",
        "dev_dir5 = (base_dir + 'Test/Urbano/')"
      ],
      "metadata": {
        "id": "b8Ai-e37fWcA"
      },
      "execution_count": 52,
      "outputs": []
    },
    {
      "cell_type": "code",
      "source": [
        "print('Total de imagenes rurales: ', len(os.listdir(dev_dir2)))"
      ],
      "metadata": {
        "colab": {
          "base_uri": "https://localhost:8080/"
        },
        "id": "9vJ3-jxWgUYJ",
        "outputId": "465cfb30-5fbf-4ee0-9fff-6a79194afae8"
      },
      "execution_count": 6,
      "outputs": [
        {
          "output_type": "stream",
          "name": "stdout",
          "text": [
            "Total de imagenes rurales:  61\n"
          ]
        }
      ]
    },
    {
      "cell_type": "code",
      "source": [
        "print('Total de imagenes urbanas: ', len(os.listdir(dev_dir3)))"
      ],
      "metadata": {
        "colab": {
          "base_uri": "https://localhost:8080/"
        },
        "id": "vkcrqH70gZrD",
        "outputId": "680b7f6f-5fd6-4dba-bfc8-ef31330a3f3a"
      },
      "execution_count": 7,
      "outputs": [
        {
          "output_type": "stream",
          "name": "stdout",
          "text": [
            "Total de imagenes rurales:  49\n"
          ]
        }
      ]
    },
    {
      "cell_type": "code",
      "source": [
        "print('Total de imagenes rurales: ', len(os.listdir(dev_dir4)))"
      ],
      "metadata": {
        "colab": {
          "base_uri": "https://localhost:8080/"
        },
        "id": "2y3U--s-qxdW",
        "outputId": "112cc561-fbb9-4137-a375-a91dd87fa938"
      },
      "execution_count": 53,
      "outputs": [
        {
          "output_type": "stream",
          "name": "stdout",
          "text": [
            "Total de imagenes rurales:  61\n"
          ]
        }
      ]
    },
    {
      "cell_type": "code",
      "source": [
        "print('Total de imagenes urbanas: ', len(os.listdir(dev_dir5)))"
      ],
      "metadata": {
        "colab": {
          "base_uri": "https://localhost:8080/"
        },
        "id": "dc_tRXBcq3hY",
        "outputId": "bd5b1d22-0608-44a0-80d7-3ecfb0181855"
      },
      "execution_count": 54,
      "outputs": [
        {
          "output_type": "stream",
          "name": "stdout",
          "text": [
            "Total de imagenes urbanas:  49\n"
          ]
        }
      ]
    },
    {
      "cell_type": "markdown",
      "source": [
        "## Cargando el modelo"
      ],
      "metadata": {
        "id": "Z6Uaiq9mghbV"
      }
    },
    {
      "cell_type": "code",
      "source": [
        "longitud, altura = 224, 224\n",
        "\n",
        "modelo = '/content/drive/MyDrive/modelo1.h5'\n",
        "pesos = '/content/drive/MyDrive/pesos.h5'"
      ],
      "metadata": {
        "id": "N0dOuxYvga0G"
      },
      "execution_count": 35,
      "outputs": []
    },
    {
      "cell_type": "code",
      "source": [
        "cnn1 = load_model(modelo)\n",
        "cnn1.load_weights(pesos)"
      ],
      "metadata": {
        "id": "r0Dd02RPgzFV"
      },
      "execution_count": 9,
      "outputs": []
    },
    {
      "cell_type": "code",
      "source": [
        "def predict(file):\n",
        "    x = load_img(file, target_size=(longitud, altura))\n",
        "    x = img_to_array(x)\n",
        "    x = np.expand_dims(x, axis=0)\n",
        "    array = cnn1.predict(x)\n",
        "    result = array[0]\n",
        "    answer = np.argmax(result)\n",
        "    return answer"
      ],
      "metadata": {
        "id": "MMGq7s1Xmi-f"
      },
      "execution_count": 23,
      "outputs": []
    },
    {
      "cell_type": "markdown",
      "source": [
        "### Prediction for Rural Images"
      ],
      "metadata": {
        "id": "1cPLli2jqLH_"
      }
    },
    {
      "cell_type": "code",
      "source": [
        "def listanb3():\n",
        "    contador_1 = 0\n",
        "    contador_2 = 0\n",
        "    total_r = 61\n",
        "    lista_r = []\n",
        "\n",
        "    for i in range(1, 61):\n",
        "        answer_resp = predict(dev_dir2 + os.listdir(dev_dir2)[i])\n",
        "        if answer_resp == 0:\n",
        "            contador_1 += 1\n",
        "        else:\n",
        "            contador_2 += 1\n",
        "    print(\"Porcentaje de imagenes rurales: \" + str(contador_1/total_r*100))\n",
        "    print(\"Porcentahe de imagenes urbanas: \" + str(contador_2/total_r*100))"
      ],
      "metadata": {
        "id": "D1p_sq1_hIhZ"
      },
      "execution_count": 38,
      "outputs": []
    },
    {
      "cell_type": "code",
      "source": [
        "listanb3()"
      ],
      "metadata": {
        "colab": {
          "base_uri": "https://localhost:8080/"
        },
        "id": "E8TLZAounY6w",
        "outputId": "762fc48d-b7b9-40c9-bdde-1dd70750a2e0"
      },
      "execution_count": 39,
      "outputs": [
        {
          "output_type": "stream",
          "name": "stdout",
          "text": [
            "Porcentaje de imagenes rurales: 95.08196721311475\n",
            "Porcentahe de imagenes urbanas: 3.278688524590164\n"
          ]
        }
      ]
    },
    {
      "cell_type": "markdown",
      "source": [
        "### Prediction for Urban Images"
      ],
      "metadata": {
        "id": "MhXGByTTqEog"
      }
    },
    {
      "cell_type": "code",
      "source": [
        "def listanb4():\n",
        "    contador_1 = 0\n",
        "    contador_2 = 0\n",
        "    total_r = 49\n",
        "    lista_r = []\n",
        "\n",
        "    for i in range(1, 49):\n",
        "        answer_resp = predict(dev_dir3 + os.listdir(dev_dir3)[i])\n",
        "        if answer_resp == 0:\n",
        "            contador_1 += 1\n",
        "        else:\n",
        "            contador_2 += 1\n",
        "    print(\"Porcentaje de imagenes rurales: \" + str(contador_1/total_r*100))\n",
        "    print(\"Porcentahe de imagenes urbanas: \" + str(contador_2/total_r*100))"
      ],
      "metadata": {
        "id": "9Krl4TqDofc0"
      },
      "execution_count": 44,
      "outputs": []
    },
    {
      "cell_type": "code",
      "source": [
        "listanb4()"
      ],
      "metadata": {
        "colab": {
          "base_uri": "https://localhost:8080/"
        },
        "id": "w3XwXd3opH0O",
        "outputId": "63d73dac-1bbb-4e2b-cb59-29438a8f58c0"
      },
      "execution_count": 45,
      "outputs": [
        {
          "output_type": "stream",
          "name": "stdout",
          "text": [
            "Porcentaje de imagenes rurales: 81.63265306122449\n",
            "Porcentahe de imagenes urbanas: 16.3265306122449\n"
          ]
        }
      ]
    },
    {
      "cell_type": "markdown",
      "source": [
        "### Predict Test Rural img"
      ],
      "metadata": {
        "id": "4wkUFqeGqfxW"
      }
    },
    {
      "cell_type": "code",
      "source": [
        "def listanb5():\n",
        "    contador_1 = 0\n",
        "    contador_2 = 0\n",
        "    total_r = 61\n",
        "    lista_r = []\n",
        "\n",
        "    for i in range(1, 61):\n",
        "        answer_resp = predict(dev_dir5 + os.listdir(dev_dir5)[i])\n",
        "        if answer_resp == 0:\n",
        "            contador_1 += 1\n",
        "        else:\n",
        "            contador_2 += 1\n",
        "    print(\"Porcentaje de imagenes rurales: \" + str(contador_1/total_r*100))\n",
        "    print(\"Porcentahe de imagenes urbanas: \" + str(contador_2/total_r*100))"
      ],
      "metadata": {
        "id": "QV1t-XZYpJL2"
      },
      "execution_count": 49,
      "outputs": []
    },
    {
      "cell_type": "code",
      "source": [
        "listanb5()"
      ],
      "metadata": {
        "colab": {
          "base_uri": "https://localhost:8080/"
        },
        "id": "7r0sCzV6qZQT",
        "outputId": "a0f0dddf-c6d5-406b-ef82-b7c6dabd91fb"
      },
      "execution_count": 50,
      "outputs": [
        {
          "output_type": "stream",
          "name": "stdout",
          "text": [
            "Porcentaje de imagenes rurales: 95.08196721311475\n",
            "Porcentahe de imagenes urbanas: 3.278688524590164\n"
          ]
        }
      ]
    },
    {
      "cell_type": "markdown",
      "source": [
        "### Predict Test Urban img"
      ],
      "metadata": {
        "id": "hesunVF9rOpa"
      }
    },
    {
      "cell_type": "code",
      "source": [
        "def listanb6():\n",
        "    contador_1 = 0\n",
        "    contador_2 = 0\n",
        "    total_r = 49\n",
        "    lista_r = []\n",
        "\n",
        "    for i in range(1, 49):\n",
        "        answer_resp = predict(dev_dir5 + os.listdir(dev_dir5)[i])\n",
        "        if answer_resp == 0:\n",
        "            contador_1 += 1\n",
        "        else:\n",
        "            contador_2 += 1\n",
        "    print(\"Porcentaje de imagenes rurales: \" + str(contador_1/total_r*100))\n",
        "    print(\"Porcentahe de imagenes urbanas: \" + str(contador_2/total_r*100))"
      ],
      "metadata": {
        "id": "tJLsribAqawl"
      },
      "execution_count": 55,
      "outputs": []
    },
    {
      "cell_type": "code",
      "source": [
        "listanb6()"
      ],
      "metadata": {
        "colab": {
          "base_uri": "https://localhost:8080/"
        },
        "id": "Ld1lxwsJqqLP",
        "outputId": "1b9d51b8-32fe-441d-ffc7-2dc8200ae053"
      },
      "execution_count": 56,
      "outputs": [
        {
          "output_type": "stream",
          "name": "stdout",
          "text": [
            "Porcentaje de imagenes rurales: 89.79591836734694\n",
            "Porcentahe de imagenes urbanas: 8.16326530612245\n"
          ]
        }
      ]
    },
    {
      "cell_type": "code",
      "source": [
        ""
      ],
      "metadata": {
        "id": "Lvr5Spx2rIiZ"
      },
      "execution_count": null,
      "outputs": []
    }
  ]
}